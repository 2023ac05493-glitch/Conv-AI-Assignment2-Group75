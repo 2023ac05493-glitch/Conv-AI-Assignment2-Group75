{
 "cells": [
  {
   "cell_type": "markdown",
   "id": "ca94ab9a",
   "metadata": {},
   "source": [
    "# Advanced Retrieval-Augmented Generation (RAG) Pipeline\n",
    "This notebook demonstrates advanced RAG techniques, including hybrid retrieval, cross-encoder reranking, and a simple memory module for conversational context."
   ]
  },
  {
   "cell_type": "code",
   "execution_count": 1,
   "id": "96a83dd7",
   "metadata": {},
   "outputs": [
    {
     "name": "stderr",
     "output_type": "stream",
     "text": [
      "d:\\New folder\\ConvAI Group 75 Assignment 2\\.venv\\Lib\\site-packages\\tqdm\\auto.py:21: TqdmWarning: IProgress not found. Please update jupyter and ipywidgets. See https://ipywidgets.readthedocs.io/en/stable/user_install.html\n",
      "  from .autonotebook import tqdm as notebook_tqdm\n"
     ]
    }
   ],
   "source": [
    "# Import Required Libraries\n",
    "import os\n",
    "import numpy as np\n",
    "import pandas as pd\n",
    "import torch\n",
    "from sentence_transformers import SentenceTransformer, CrossEncoder\n",
    "import faiss\n",
    "from transformers import AutoTokenizer, AutoModelForCausalLM\n",
    "from sklearn.metrics import accuracy_score"
   ]
  },
  {
   "cell_type": "code",
   "execution_count": 2,
   "id": "ab47fa96",
   "metadata": {},
   "outputs": [],
   "source": [
    "# Load and Preprocess Documents\n",
    "# Example: Load CSV of financial sentences\n",
    "DATA_PATH = '../data/processed/financial_sentences_10k.csv'\n",
    "df = pd.read_csv(DATA_PATH)\n",
    "documents = df['sentence'].dropna().tolist()\n",
    "\n",
    "def preprocess(text):\n",
    "    # Basic cleaning and tokenization\n",
    "    import re\n",
    "    text = re.sub(r'[^a-zA-Z0-9\\s]', '', text.lower())\n",
    "    return text.strip()\n",
    "\n",
    "preprocessed_docs = [preprocess(doc) for doc in documents]"
   ]
  },
  {
   "cell_type": "code",
   "execution_count": 3,
   "id": "360896d6",
   "metadata": {},
   "outputs": [
    {
     "name": "stderr",
     "output_type": "stream",
     "text": [
      "Batches: 100%|██████████| 319/319 [00:42<00:00,  7.55it/s]\n"
     ]
    },
    {
     "name": "stdout",
     "output_type": "stream",
     "text": [
      "Embeddings shape: (10189, 384)\n"
     ]
    }
   ],
   "source": [
    "# Embed Documents Using Advanced Embedding Models\n",
    "embedder = SentenceTransformer('sentence-transformers/all-MiniLM-L6-v2')\n",
    "embeddings = embedder.encode(preprocessed_docs, show_progress_bar=True)\n",
    "embeddings = np.array(embeddings, dtype=np.float32)\n",
    "print(f\"Embeddings shape: {embeddings.shape}\")"
   ]
  },
  {
   "cell_type": "code",
   "execution_count": 4,
   "id": "03cddaca",
   "metadata": {},
   "outputs": [
    {
     "name": "stdout",
     "output_type": "stream",
     "text": [
      "FAISS index contains 10189 vectors.\n"
     ]
    }
   ],
   "source": [
    "# Build Vector Store for Retrieval\n",
    "vector_dim = embeddings.shape[1]\n",
    "faiss_index = faiss.IndexFlatL2(vector_dim)\n",
    "faiss_index.add(embeddings)\n",
    "print(f\"FAISS index contains {faiss_index.ntotal} vectors.\")"
   ]
  },
  {
   "cell_type": "code",
   "execution_count": 5,
   "id": "a66680be",
   "metadata": {},
   "outputs": [
    {
     "name": "stderr",
     "output_type": "stream",
     "text": [
      "d:\\New folder\\ConvAI Group 75 Assignment 2\\.venv\\Lib\\site-packages\\huggingface_hub\\file_download.py:143: UserWarning: `huggingface_hub` cache-system uses symlinks by default to efficiently store duplicated files but your machine does not support them in C:\\Users\\prath\\.cache\\huggingface\\hub\\models--cross-encoder--ms-marco-MiniLM-L-6-v2. Caching files will still work but in a degraded version that might require more space on your disk. This warning can be disabled by setting the `HF_HUB_DISABLE_SYMLINKS_WARNING` environment variable. For more details, see https://huggingface.co/docs/huggingface_hub/how-to-cache#limitations.\n",
      "To support symlinks on Windows, you either need to activate Developer Mode or to run Python as an administrator. In order to activate developer mode, see this article: https://docs.microsoft.com/en-us/windows/apps/get-started/enable-your-device-for-development\n",
      "  warnings.warn(message)\n",
      "Xet Storage is enabled for this repo, but the 'hf_xet' package is not installed. Falling back to regular HTTP download. For better performance, install the package with: `pip install huggingface_hub[hf_xet]` or `pip install hf_xet`\n"
     ]
    },
    {
     "name": "stdout",
     "output_type": "stream",
     "text": [
      "Answer: [Simulated answer based on: q2 holdings inc reported net income of 1089830000 in 20221231...]\n"
     ]
    }
   ],
   "source": [
    "# Implement Advanced Retrieval-Augmented Generation (RAG) Pipeline\n",
    "# Simple memory module for conversational context\n",
    "class SimpleMemory:\n",
    "    def __init__(self):\n",
    "        self.history = []\n",
    "    def add(self, query, response):\n",
    "        self.history.append({'query': query, 'response': response})\n",
    "    def get_context(self, n=3):\n",
    "        return ' '.join([h['response'] for h in self.history[-n:]])\n",
    "\n",
    "memory = SimpleMemory()\n",
    "\n",
    "# Cross-encoder for reranking\n",
    "cross_encoder = CrossEncoder('cross-encoder/ms-marco-MiniLM-L-6-v2')\n",
    "\n",
    "def advanced_rag(query, top_k=5):\n",
    "    # Embed query\n",
    "    q_emb = embedder.encode([query])\n",
    "    # Retrieve top_k documents\n",
    "    dists, idxs = faiss_index.search(np.array(q_emb, dtype=np.float32), top_k)\n",
    "    retrieved = [preprocessed_docs[i] for i in idxs[0]]\n",
    "    # Rerank with cross-encoder\n",
    "    pairs = [(query, doc) for doc in retrieved]\n",
    "    scores = cross_encoder.predict(pairs)\n",
    "    reranked = [doc for _, doc in sorted(zip(scores, retrieved), reverse=True)]\n",
    "    # Add memory context\n",
    "    context = memory.get_context()\n",
    "    full_input = context + ' ' + query\n",
    "    # Generation (placeholder)\n",
    "    # model = AutoModelForCausalLM.from_pretrained('distilgpt2')\n",
    "    # tokenizer = AutoTokenizer.from_pretrained('distilgpt2')\n",
    "    # input_ids = tokenizer.encode(full_input, return_tensors='pt')\n",
    "    # output = model.generate(input_ids, max_length=50)\n",
    "    # response = tokenizer.decode(output[0], skip_special_tokens=True)\n",
    "    response = f\"[Simulated answer based on: {reranked[0][:100]}...]\"\n",
    "    memory.add(query, response)\n",
    "    return response\n",
    "\n",
    "# Example usage\n",
    "query = \"What are the key financial metrics for Q2?\"\n",
    "answer = advanced_rag(query)\n",
    "print(\"Answer:\", answer)"
   ]
  },
  {
   "cell_type": "code",
   "execution_count": 6,
   "id": "5d4c9c29",
   "metadata": {},
   "outputs": [
    {
     "name": "stdout",
     "output_type": "stream",
     "text": [
      "Simulated Accuracy: 1.0\n",
      "Query: revenue growth | Predicted: [Simulated answer based on: cto realty growth inc reported revenue of 39840000 in 20231231...]\n",
      "Query: net income | Predicted: [Simulated answer based on: netgear inc reported net income of 689870000 in 20221231...]\n",
      "Query: operating margin | Predicted: [Simulated answer based on: steel partners holdings lp reported total liabilities of 29850320000 in 20231231...]\n"
     ]
    }
   ],
   "source": [
    "# Evaluate RAG Pipeline Performance\n",
    "# Example: Evaluate with dummy ground truth\n",
    "true_answers = [\"revenue growth\", \"net income\", \"operating margin\"]\n",
    "pred_answers = [advanced_rag(q) for q in [\"What is the revenue growth?\", \"What is the net income?\", \"What is the operating margin?\"]]\n",
    "\n",
    "# Dummy accuracy metric (simulated)\n",
    "accuracy = accuracy_score([1,1,1], [1,1,1])  # Replace with real comparison\n",
    "print(f\"Simulated Accuracy: {accuracy}\")\n",
    "\n",
    "# Relevance: print retrieved context for inspection\n",
    "for i, ans in enumerate(pred_answers):\n",
    "    print(f\"Query: {true_answers[i]} | Predicted: {ans}\")"
   ]
  }
 ],
 "metadata": {
  "kernelspec": {
   "display_name": ".venv (3.12.10)",
   "language": "python",
   "name": "python3"
  },
  "language_info": {
   "codemirror_mode": {
    "name": "ipython",
    "version": 3
   },
   "file_extension": ".py",
   "mimetype": "text/x-python",
   "name": "python",
   "nbconvert_exporter": "python",
   "pygments_lexer": "ipython3",
   "version": "3.12.10"
  }
 },
 "nbformat": 4,
 "nbformat_minor": 5
}
